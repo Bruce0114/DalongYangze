{
 "cells": [
  {
   "cell_type": "code",
   "execution_count": 1,
   "metadata": {},
   "outputs": [],
   "source": [
    "import sys\n",
    "path = '/Users/apple/desktop/Yangze_Investment/Task8_Reproduce_Report/Task8_20200304_2022'\n",
    "sys.path.append(f'{path}/self_defined')"
   ]
  },
  {
   "cell_type": "code",
   "execution_count": 2,
   "metadata": {},
   "outputs": [],
   "source": [
    "from calc_inv_data import calc_inv_data\n",
    "from process_total_inv import process_total_inv\n",
    "from generate_inv_signal_seprank import generate_inv_signal_seprank\n",
    "from generate_inv_signal_unirank import generate_inv_signal_unirank\n",
    "from generate_inv_signal_allinone import generate_inv_signal_allinone\n",
    "from generate_ret_fnv import generate_ret_fnv"
   ]
  },
  {
   "cell_type": "code",
   "execution_count": 11,
   "metadata": {},
   "outputs": [
    {
     "name": "stdout",
     "output_type": "stream",
     "text": [
      "Login YzData Success\n",
      "CPU times: user 2min 51s, sys: 760 ms, total: 2min 52s\n",
      "Wall time: 3min 13s\n"
     ]
    },
    {
     "data": {
      "text/html": [
       "<div>\n",
       "<style scoped>\n",
       "    .dataframe tbody tr th:only-of-type {\n",
       "        vertical-align: middle;\n",
       "    }\n",
       "\n",
       "    .dataframe tbody tr th {\n",
       "        vertical-align: top;\n",
       "    }\n",
       "\n",
       "    .dataframe thead th {\n",
       "        text-align: right;\n",
       "    }\n",
       "</style>\n",
       "<table border=\"1\" class=\"dataframe\">\n",
       "  <thead>\n",
       "    <tr style=\"text-align: right;\">\n",
       "      <th></th>\n",
       "      <th>5</th>\n",
       "      <th>10</th>\n",
       "      <th>20</th>\n",
       "      <th>30</th>\n",
       "      <th>40</th>\n",
       "      <th>50</th>\n",
       "      <th>60</th>\n",
       "      <th>70</th>\n",
       "      <th>80</th>\n",
       "      <th>90</th>\n",
       "      <th>100</th>\n",
       "    </tr>\n",
       "  </thead>\n",
       "  <tbody>\n",
       "    <tr>\n",
       "      <th>annualized_ret</th>\n",
       "      <td>0.0547</td>\n",
       "      <td>0.0665</td>\n",
       "      <td>0.0132</td>\n",
       "      <td>-0.0120</td>\n",
       "      <td>-0.0043</td>\n",
       "      <td>-0.0086</td>\n",
       "      <td>0.0017</td>\n",
       "      <td>-0.0063</td>\n",
       "      <td>0.0298</td>\n",
       "      <td>0.0537</td>\n",
       "      <td>0.0485</td>\n",
       "    </tr>\n",
       "    <tr>\n",
       "      <th>annualized_ret_DeductTC</th>\n",
       "      <td>0.0082</td>\n",
       "      <td>0.0391</td>\n",
       "      <td>-0.0046</td>\n",
       "      <td>-0.0255</td>\n",
       "      <td>-0.0161</td>\n",
       "      <td>-0.0190</td>\n",
       "      <td>-0.0082</td>\n",
       "      <td>-0.0152</td>\n",
       "      <td>0.0202</td>\n",
       "      <td>0.0457</td>\n",
       "      <td>0.0408</td>\n",
       "    </tr>\n",
       "  </tbody>\n",
       "</table>\n",
       "</div>"
      ],
      "text/plain": [
       "                            5       10      20      30      40      50   \\\n",
       "annualized_ret           0.0547  0.0665  0.0132 -0.0120 -0.0043 -0.0086   \n",
       "annualized_ret_DeductTC  0.0082  0.0391 -0.0046 -0.0255 -0.0161 -0.0190   \n",
       "\n",
       "                            60      70      80      90      100  \n",
       "annualized_ret           0.0017 -0.0063  0.0298  0.0537  0.0485  \n",
       "annualized_ret_DeductTC -0.0082 -0.0152  0.0202  0.0457  0.0408  "
      ]
     },
     "execution_count": 11,
     "metadata": {},
     "output_type": "execute_result"
    }
   ],
   "source": [
    "%%time\n",
    "\n",
    "# import sys\n",
    "# import math\n",
    "# # import xlwings\n",
    "# import numpy as np\n",
    "import pandas as pd\n",
    "from yzutil import YzDataClient\n",
    "\n",
    "\n",
    "# initiate data api obj\n",
    "yz = YzDataClient('bruce@yangzeinvest.com', 'bruce123')\n",
    "\n",
    "# load data\n",
    "inv_index_tb = pd.read_csv(f'{path}/data/inventory_data_index.csv')\n",
    "futures_data_df = pd.read_csv(f'{path}/data/futures_data.csv', index_col=0)\n",
    "\n",
    "# set parameters\n",
    "SIG_THRESHOLD = 0.2\n",
    "\n",
    "mode = 'ret_annualized_pair'\n",
    "\n",
    "shift_inv, shift_sig = 'shift_yes', 'shift_yes'\n",
    "\n",
    "# rolling_list = [5]\n",
    "rolling_list = [5] + [i for i in range(10, 110, 10)]\n",
    "\n",
    "annualized_ret_df = pd.DataFrame()\n",
    "\n",
    "# main function calls\n",
    "inv_total_tradingday_df = process_total_inv(inv_index_tb, yz, shift_inv)\n",
    "\n",
    "for rolling in rolling_list:\n",
    "    \n",
    "    # main function call\n",
    "    signal_df = generate_inv_signal_seprank(inv_total_tradingday_df, rolling, SIG_THRESHOLD)\n",
    "    \n",
    "    annualized_ret_pair = generate_ret_fnv(inv_index_tb, futures_data_df, signal_df, shift_sig, mode, '2017-07-31')\n",
    "    \n",
    "    annualized_ret_pair_df = pd.DataFrame(annualized_ret_pair)\n",
    "    \n",
    "    annualized_ret_df = pd.concat([annualized_ret_df, annualized_ret_pair_df], axis=1)\n",
    "    \n",
    "annualized_ret_df.index = ['annualized_ret', 'annualized_ret_DeductTC']\n",
    "annualized_ret_df.columns = rolling_list\n",
    "\n",
    "annualized_ret_df"
   ]
  },
  {
   "cell_type": "code",
   "execution_count": 12,
   "metadata": {},
   "outputs": [],
   "source": [
    "annualized_ret_df.to_csv(f'{path}/results/annualized_ret_SepRank_20170731_R5to100_df.csv')"
   ]
  },
  {
   "cell_type": "code",
   "execution_count": null,
   "metadata": {},
   "outputs": [],
   "source": []
  },
  {
   "cell_type": "code",
   "execution_count": null,
   "metadata": {},
   "outputs": [],
   "source": []
  },
  {
   "cell_type": "code",
   "execution_count": null,
   "metadata": {},
   "outputs": [],
   "source": []
  }
 ],
 "metadata": {
  "kernelspec": {
   "display_name": "Python 3",
   "language": "python",
   "name": "python3"
  },
  "language_info": {
   "codemirror_mode": {
    "name": "ipython",
    "version": 3
   },
   "file_extension": ".py",
   "mimetype": "text/x-python",
   "name": "python",
   "nbconvert_exporter": "python",
   "pygments_lexer": "ipython3",
   "version": "3.7.3"
  }
 },
 "nbformat": 4,
 "nbformat_minor": 2
}
